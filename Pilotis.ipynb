{
 "cells": [
  {
   "cell_type": "code",
   "execution_count": 1,
   "metadata": {},
   "outputs": [
    {
     "data": {
      "image/png": "[encoded data removed]",
      "text/plain": [
       "<Figure size 576x576 with 1 Axes>"
      ]
     },
     "metadata": {
      "needs_background": "light"
     },
     "output_type": "display_data"
    }
   ],
   "source": [
    "import numpy as np\n",
    "import matplotlib.pyplot as plt\n",
    "\n",
    "poteau_size = 15\n",
    "base = [0,2]\n",
    "terrasse_1 = [2,3]\n",
    "terrasse_2 = [2,4]\n",
    "\n",
    "# 8 Places\n",
    "\n",
    "fig, ax = plt.subplots(figsize=(8,8))\n",
    "# Base\n",
    "for i in range(3): # Colonnes\n",
    "    ax.plot([i,i], base, color='green')\n",
    "for i in range(5): # Lignes\n",
    "    ax.plot(base, [i/2,i/2], color='green')    \n",
    "# Terrasse 1\n",
    "for i in range(2):\n",
    "    ax.plot(terrasse_1, [i*2,i*2], color='blue')   \n",
    "    ax.plot(3,i*2, marker='o', markersize=poteau_size, color='blue')\n",
    "ax.plot([3,3], base, color='blue')\n",
    "# Terrasse 2\n",
    "for i in range(2):\n",
    "    ax.plot([i*2,i*2], terrasse_2, color='orange')   \n",
    "    ax.plot(i*2, 4, marker='o', markersize=poteau_size, color='orange')\n",
    "ax.plot(base, [4,4], color='orange')\n",
    "# Poteaux\n",
    "for i in range(3):\n",
    "    for j in range(3):\n",
    "        ax.plot(i, j, marker='o', markersize=poteau_size, color='green')\n",
    "\n",
    "ax.set_xlim(-1.1,3.1)\n",
    "ax.set_ylim(-0.1,4.1)\n",
    "plt.axis('off')\n",
    "plt.savefig(\"../pilotis_8.pdf\", format=\"pdf\",bbox_inches='tight')\n",
    "plt.show()"
   ]
  },
  {
   "cell_type": "code",
   "execution_count": 28,
   "metadata": {},
   "outputs": [
    {
     "data": {
      "image/png": "[encoded data removed]",
      "text/plain": [
       "<Figure size 576x576 with 1 Axes>"
      ]
     },
     "metadata": {
      "needs_background": "light"
     },
     "output_type": "display_data"
    }
   ],
   "source": [
    "# 12 Places\n",
    "\n",
    "base_small = [0.5,1.5]\n",
    "\n",
    "fig, ax = plt.subplots(figsize=(8,8))\n",
    "# Base\n",
    "for i in range(3): # Colonnes\n",
    "    ax.plot([i,i], base, color='green')\n",
    "for i in range(5): # Lignes\n",
    "    ax.plot(base, [i/2,i/2], color='green')    \n",
    "for i in range(3):\n",
    "    ax.plot(base_small, [i,i], linestyle='dashed', linewidth=2, color='black')\n",
    "for i in range(3):\n",
    "    ax.plot([i/2+0.5,i/2+0.5], base, color='black')\n",
    "# Terrasse 1\n",
    "for i in range(2):\n",
    "    ax.plot(terrasse_1, [i*2,i*2], color='blue')   \n",
    "    ax.plot(3,i*2, marker='o', markersize=poteau_size, color='blue')\n",
    "ax.plot([3,3], base, color='blue')\n",
    "# Terrasse 2\n",
    "for i in range(2):\n",
    "    ax.plot([i*2,i*2], terrasse_2, color='orange')   \n",
    "    ax.plot(i*2, 4, marker='o', markersize=poteau_size, color='orange')\n",
    "ax.plot(base, [4,4], color='orange')\n",
    "# Poteaux\n",
    "for i in range(3):\n",
    "    for j in range(3):\n",
    "        if i != 1:\n",
    "            ax.plot(i, j, marker='o', markersize=poteau_size, color='green')\n",
    "for i in range(2):\n",
    "    for j in range(2):\n",
    "        ax.plot(i+0.5, j*2, marker='o', markersize=poteau_size, color='black')\n",
    "ax.plot(1, 1, marker='o', markersize=poteau_size, color='black')\n",
    "\n",
    "ax.set_xlim(-1.1,3.1)\n",
    "ax.set_ylim(-0.1,4.1)\n",
    "plt.axis('off')\n",
    "plt.savefig(\"../pilotis_12.pdf\", format=\"pdf\",bbox_inches='tight')\n",
    "plt.show()"
   ]
  }
 ],
 "metadata": {
  "kernelspec": {
   "display_name": "base",
   "language": "python",
   "name": "python3"
  },
  "language_info": {
   "codemirror_mode": {
    "name": "ipython",
    "version": 3
   },
   "file_extension": ".py",
   "mimetype": "text/x-python",
   "name": "python",
   "nbconvert_exporter": "python",
   "pygments_lexer": "ipython3",
   "version": "3.7.9"
  },
  "orig_nbformat": 4
 },
 "nbformat": 4,
 "nbformat_minor": 2
}
